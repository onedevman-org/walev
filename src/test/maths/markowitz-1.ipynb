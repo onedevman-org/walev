{
 "cells": [
  {
   "cell_type": "code",
   "execution_count": 1,
   "id": "fb4e2920",
   "metadata": {},
   "outputs": [],
   "source": [
    "import numpy as np\n",
    "import scipy as sp\n",
    "\n",
    "from matplotlib import pyplot as plt\n",
    "\n",
    "import pandas as pd\n",
    "\n",
    "import json\n",
    "\n",
    "from manim import *\n",
    "\n",
    "config.media_width = \"100%\"\n",
    "config.verbosity = \"WARNING\""
   ]
  },
  {
   "cell_type": "code",
   "execution_count": 2,
   "id": "1e1a8e31",
   "metadata": {},
   "outputs": [],
   "source": [
    "from impl.Markowitz import Markowitz"
   ]
  },
  {
   "cell_type": "markdown",
   "id": "42b95ce6",
   "metadata": {},
   "source": [
    "# Rappels importants\n",
    "\n",
    "### Développements limités (en a=0) :\n",
    "\n",
    "- exponentielle : $\n",
    "\\begin{gather*}\n",
    "    \\,\n",
    "    e^x = \\sum_{k=0}^{n} \\frac{x^k}{k!} + o(x^n)\n",
    "    \\,\n",
    "\\end{gather*}\n",
    "$\n",
    "\n",
    "### Formule de l'écart-type :\n",
    "\n",
    "$\n",
    "\\begin{gather*}\n",
    "    \\,\n",
    "    \\sigma = \\sqrt{ \\frac{\\sum_{i=1}^n {(x_i - \\bar{x})}^2}{ n } }\n",
    "    \\,\n",
    "\\end{gather*}\n",
    "$\n",
    "\n",
    "### Coefficient de corrélation :\n",
    "\n",
    "$\n",
    "\\begin{gather*}\n",
    "    \\,\n",
    "    \\rho(x,y) = \\frac{\\sum_{i=0}^{n} (x_i - \\bar{x})(y_i - \\bar{y})}{\\sqrt{{\\sum_{i=0}^{n} (x_i - \\bar{x})^2} \\times {\\sum_{i=0}^{n} (y_i - \\bar{y})^2}}}\n",
    "    \\,\n",
    "\\end{gather*}\n",
    "$\n",
    "\n",
    "### Fonction d'erreur de Gauss :\n",
    "\n",
    "$\n",
    "\\begin{gather*}\n",
    "    \\,\n",
    "    erf(z) = \\frac{2}{\\sqrt{\\pi}} \\int_0^z e^{-t^2} dt\n",
    "    \\,\n",
    "\\end{gather*}\n",
    "$\n",
    "\n",
    "### Loi Normal :\n",
    "\n",
    "Soit $ X \\sim \\mathcal{N}(m, \\sigma^2) $\n",
    "\n",
    "- fonction de distribution : $\n",
    "\\begin{gather*}\n",
    "    \\,\n",
    "    f(x) = { \\frac{1}{\\sigma \\sqrt{2\\pi}} } exp(-{ \\frac{(x - m)^2}{2 \\sigma^2} })\n",
    "    \\,\n",
    "\\end{gather*}\n",
    "$\n",
    "\n",
    "- probabilités : $\n",
    "\\begin{gather*}\n",
    "    \\,\n",
    "    P( X \\in [a;b] )\n",
    "    \\,\n",
    "    = \\int_a^b { f(x) } \\, dx\n",
    "    \\,\n",
    "    = \\int_a^b { { \\frac{1}{\\sigma \\sqrt{2\\pi}} } exp(-{ \\frac{(x - m)^2}{2 \\sigma^2} }) } \\space dx\n",
    "    \\,\n",
    "    = { \\frac{1}{\\sigma \\sqrt{2\\pi}} } \\int_a^b { exp(-{ \\frac{(x - m)^2}{2 \\sigma^2} }) } \\space dx\n",
    "    \\,\n",
    "\\end{gather*}\n",
    "$\n",
    "\n",
    "- espérance : $ E(X) = m $\n",
    "\n",
    "- variance : $ V(x) = \\sigma^2 $"
   ]
  },
  {
   "cell_type": "markdown",
   "id": "f497e571",
   "metadata": {},
   "source": [
    "## Fonctions annexes"
   ]
  },
  {
   "cell_type": "code",
   "execution_count": 3,
   "id": "bfb2c70f",
   "metadata": {},
   "outputs": [],
   "source": [
    "# moyenne\n",
    "def expectancy(values, p=[]):\n",
    "    if len(p) > 0:\n",
    "        return (values * p).sum()\n",
    "    else:\n",
    "        return values.sum() / len(values)"
   ]
  },
  {
   "cell_type": "code",
   "execution_count": 4,
   "id": "822083e0",
   "metadata": {},
   "outputs": [],
   "source": [
    "# écart-type ((en) standard deviation)\n",
    "def stddev(values):\n",
    "    delta = np.abs(values - expectancy(values))\n",
    "    return np.sqrt((delta * delta).sum() / len(values))"
   ]
  },
  {
   "cell_type": "code",
   "execution_count": 5,
   "id": "d4f1a58a",
   "metadata": {},
   "outputs": [],
   "source": [
    "def normallaw_density_by_stddev(m, d, x):\n",
    "    return (1 / (d * np.sqrt(2 * np.pi))) * np.exp(- ((x - m) * (x - m)) / (2 * d * d))"
   ]
  },
  {
   "cell_type": "code",
   "execution_count": 6,
   "id": "b5e428e0",
   "metadata": {},
   "outputs": [],
   "source": [
    "# facteur de correlation entre x et y\n",
    "def correlation(xvalues, yvalues):\n",
    "    x_count = len(xvalues)\n",
    "    y_count = len(yvalues)\n",
    "    if x_count != y_count:\n",
    "        raise RuntimeError(\"x and y set value count should be the same.\")\n",
    "    \n",
    "    x_expectancy = expectancy(xvalues)\n",
    "    y_expectancy = expectancy(yvalues)\n",
    "    \n",
    "    xy_deviation_product_sum = 0\n",
    "    \n",
    "    x_squared_deviation_sum = 0\n",
    "    y_squared_deviation_sum = 0\n",
    "    \n",
    "    for i in range(x_count):\n",
    "        xi = xvalues[i]\n",
    "        yi = yvalues[i]\n",
    "        \n",
    "        x_deviation = (xi - x_expectancy)\n",
    "        y_deviation = (yi - y_expectancy)\n",
    "        \n",
    "        xy_deviation_product_sum += x_deviation * y_deviation\n",
    "        \n",
    "        x_squared_deviation_sum += x_deviation * x_deviation\n",
    "        y_squared_deviation_sum += y_deviation * y_deviation\n",
    "    \n",
    "    return xy_deviation_product_sum / np.sqrt(x_squared_deviation_sum * y_squared_deviation_sum)"
   ]
  },
  {
   "cell_type": "code",
   "execution_count": 7,
   "id": "f2733979",
   "metadata": {},
   "outputs": [],
   "source": [
    "def cov(xvalues,yvalues):\n",
    "    return correlation(xvalues,yvalues) * stddev(xvalues) * stddev(yvalues)"
   ]
  },
  {
   "cell_type": "markdown",
   "id": "93b2d658",
   "metadata": {},
   "source": [
    "#### 1. Implémentation de la probabilité d'un intervalle $ I = [a;b] $ :\n",
    "\n",
    "$ P(X \\in [a;b]) $ est définie par rapport à une intégrale. Pour implémenter un tel calcul, on a le choix :\n",
    "1. exprimer l'intégrale sous forme de limite d'une somme et déterminer un rang n à partir duquel le calcul sera d'une assez grande précision\n",
    "2. ou essayer de simplifier cette intégrale au maximum et en déduire une expression plus simple, plus légère à implémenter et déterminer un rang n à partir duquel le calcul sera d'une assez grande précision.\n",
    "\n",
    "J'ai fait le choix de la seconde option, et voici le résultat et sa démonstration :"
   ]
  },
  {
   "cell_type": "code",
   "execution_count": 8,
   "id": "a3b6e38d",
   "metadata": {},
   "outputs": [],
   "source": [
    "#%%manim -qm -v WARNING manim_simplifying_normallaw_interval_probability_expression\n",
    "\n",
    "class manim_simplifying_normallaw_interval_probability_expression(Scene):\n",
    "    def construct(self):\n",
    "        #\n",
    "        \n",
    "        tmpeq = MathTex(\n",
    "            r\"P( X \\in [a;b] )\", r\"=\",\n",
    "            r\"{ \\frac{1}{\\sigma \\sqrt{2\\pi}} }\",\n",
    "            r\"\\int_a^b {\", r\"exp\\Big(-{\", r\"{(x - m)^2}\", r\"\\over\", r\"{2 \\sigma^2}\", r\"}\\Big)\", r\"} \\, dx\"\n",
    "        )\n",
    "        \n",
    "        self.play( Write(tmpeq) )\n",
    "        self.wait()\n",
    "        \n",
    "        #\n",
    "        \n",
    "        self.play( Circumscribe(tmpeq[6 -1], fade_out=True) )\n",
    "\n",
    "        tmpeq1 = tmpeq\n",
    "        tmpeq = MathTex(\n",
    "            r\"P( X \\in [a;b] )\", r\"=\",\n",
    "            r\"{ \\frac{1}{\\sigma \\sqrt{2\\pi}} }\",\n",
    "            r\"\\int_a^b {\", r\"exp\\Big(-{\", r\"{(m - x)^2}\", r\"\\over\", r\"{2 \\sigma^2}\", r\"}\\Big)\", r\"} \\, dx\"\n",
    "        )\n",
    "\n",
    "        self.play( TransformMatchingTex(tmpeq1,tmpeq) )\n",
    "        self.wait()\n",
    "\n",
    "        #\n",
    "\n",
    "        self.play( Circumscribe(tmpeq[3 -1], fade_out=True) )\n",
    "\n",
    "        tmpeq1 = tmpeq\n",
    "        tmpeq = MathTex(\n",
    "            r\"P( X \\in [a;b] )\", r\"=\",\n",
    "            r\"{ \\frac{1}{\\sqrt{\\pi}} }\", r\"\\times\", r\"{ \\frac{1}{\\sigma \\sqrt{2}} }\",\n",
    "            r\"\\int_a^b {\", r\"exp\\Big(-{\", r\"\\frac{(m - x)^2}{2 \\sigma^2}\", r\"}\\Big)\", r\"} \\, dx\"\n",
    "        )\n",
    "\n",
    "        self.play( TransformMatchingTex(tmpeq1,tmpeq) )\n",
    "        self.wait()\n",
    "\n",
    "        #\n",
    "\n",
    "        tmpeq1 = tmpeq\n",
    "        tmpeq = MathTex(\n",
    "            r\"P( X \\in [a;b] )\", r\"=\",\n",
    "            r\"{ \\frac{1}{\\sqrt{\\pi}} }\",\n",
    "            r\"\\int_a^b {\",\n",
    "                r\"{ \\frac{1}{\\sigma \\sqrt{2}} }\",\n",
    "                r\"exp\\Big(-{\", r\"\\frac{(m - x)^2}{2 \\sigma^2}\", r\"}\\Big)\",\n",
    "            r\"} \\, dx\"\n",
    "        )\n",
    "\n",
    "        self.play( TransformMatchingTex(tmpeq1,tmpeq) )\n",
    "        self.wait()\n",
    "\n",
    "        #\n",
    "\n",
    "        tmpeq1 = tmpeq\n",
    "        tmpeq = MathTex(\n",
    "            r\"P( X \\in [a;b] )\", r\"=\",\n",
    "            r\"{ \\frac{1}{\\sqrt{\\pi}} }\", r\"\\times\", r\"-\",\n",
    "            r\"\\int_b^a {\",\n",
    "                r\"{ \\frac{1}{\\sigma \\sqrt{2}} }\",\n",
    "                r\"exp\\Big(-{\", r\"\\frac{(m - x)^2}{2 \\sigma^2}\", r\"}\\Big)\",\n",
    "            r\"} \\, dx\"\n",
    "        )\n",
    "\n",
    "        self.play( TransformMatchingTex(tmpeq1,tmpeq) )\n",
    "        self.wait()\n",
    "\n",
    "        #\n",
    "\n",
    "        tmpeq1 = tmpeq\n",
    "        tmpeq = MathTex(\n",
    "            r\"P( X \\in [a;b] )\", r\"=\",\n",
    "            r\"{ \\frac{1}{\\sqrt{\\pi}} }\",\n",
    "            r\"\\int_b^a {\",\n",
    "                r\"{ - \\frac{1}{\\sigma \\sqrt{2}} }\",\n",
    "                r\"exp\\Big(-{\", r\"\\frac{(m - x)^2}{2 \\sigma^2}\", r\"}\\Big)\",\n",
    "            r\"} \\, dx\"\n",
    "        )\n",
    "\n",
    "        self.play( TransformMatchingTex(tmpeq1,tmpeq) )\n",
    "        self.wait()\n",
    "\n",
    "        #\n",
    "\n",
    "        self.play( Circumscribe(tmpeq[7 -1], fade_out=True) )\n",
    "\n",
    "        tmpeq1 = tmpeq\n",
    "        tmpeq = MathTex(\n",
    "            r\"P( X \\in [a;b] )\", r\"=\",\n",
    "            r\"{ \\frac{1}{\\sqrt{\\pi}} }\",\n",
    "            r\"\\int_b^a {\",\n",
    "                r\"{ - \\frac{1}{\\sigma \\sqrt{2}} }\",\n",
    "                r\"exp\\Big(-{\", r\"\\Big(\", r\"\\frac{m - x}{\\sigma \\sqrt{2}}\", r\"\\Big)^2\", r\"}\\Big)\",\n",
    "            r\"} \\, dx\"\n",
    "        )\n",
    "\n",
    "        self.play( TransformMatchingTex(tmpeq1,tmpeq) )\n",
    "        self.wait()\n",
    "\n",
    "        #\n",
    "\n",
    "        self.play( Circumscribe(tmpeq[8 -1], fade_out=True) )\n",
    "\n",
    "        tmpeq1 = tmpeq\n",
    "        tmpeq = MathTex( \n",
    "            r\"t\", r\"=\", r\"\\frac{m - x}{\\sigma \\sqrt{2}}\",\n",
    "            r\"\\iff x\", r\"=\", r\"m - \\sigma \\sqrt{2} \\times t\",\n",
    "            r\"\\\\\",\n",
    "            r\"dx = - \\sigma \\sqrt{2} \\times dt\",\n",
    "            r\"\\\\\",\n",
    "            r\"a_1\", r\"=\", r\"\\frac{m - a}{\\sigma \\sqrt{2}}\",\n",
    "            r\"\\, \\, ; \\, \\,\",\n",
    "            r\"b_1\", r\"=\", r\"\\frac{m - b}{\\sigma \\sqrt{2}}\",\n",
    "\n",
    "            r\"\\\\ \\\\\",\n",
    "\n",
    "            r\"P( X \\in [a;b] )\", r\"=\",\n",
    "            r\"{ \\frac{1}{\\sqrt{\\pi}} }\",\n",
    "            r\"\\int_{b_1}^{a_1} {\",\n",
    "                r\"{ - \\frac{1}{\\sigma \\sqrt{2}} }\",\n",
    "                r\"exp( -\", r\"t\", r\"^2 )\",\n",
    "                r\"\\times\", r\"- \\sigma \\sqrt{2}\",\n",
    "            r\"} \\, dt\"\n",
    "        )\n",
    "\n",
    "        for i in range(0, 16 -1):\n",
    "            tmpeq[i].scale(0.75)\n",
    "\n",
    "        self.play( TransformMatchingTex(tmpeq1,tmpeq) )\n",
    "        self.play( Circumscribe(tmpeq[3 -1]) )\n",
    "\n",
    "        for i in range(0, 4):\n",
    "            self.wait()\n",
    "\n",
    "        #\n",
    "\n",
    "        tmpeq1 = tmpeq\n",
    "        tmpeq = MathTex(\n",
    "            r\"P( X \\in [a;b] )\", r\"=\",\n",
    "            r\"{ \\frac{1}{\\sqrt{\\pi}} }\",\n",
    "            r\"\\int_{ \\frac{m - b}{\\sigma \\sqrt{2}} }^{ \\frac{m - a}{\\sigma \\sqrt{2}} } {\",\n",
    "                r\"exp( -t^2 )\",\n",
    "            r\"} \\, dt\"\n",
    "        )\n",
    "\n",
    "        self.play( TransformMatchingTex(tmpeq1,tmpeq) )\n",
    "        self.wait()\n",
    "        \n",
    "        #\n",
    "        \n",
    "        self.play( Circumscribe(tmpeq[3 -1], fade_out=True) )\n",
    "        \n",
    "        tmpeq1 = tmpeq\n",
    "        tmpeq = MathTex(\n",
    "            r\"P( X \\in [a;b] )\", r\"=\",\n",
    "            r\"{ \\frac{1}{2} }\", r\"\\times\", r\"{ \\frac{2}{\\sqrt{\\pi}} }\",\n",
    "            r\"\\int_{ \\frac{m - b}{\\sigma \\sqrt{2}} }^{ \\frac{m - a}{\\sigma \\sqrt{2}} } {\",\n",
    "                r\"exp( -t^2 )\",\n",
    "            r\"} \\, dt\"\n",
    "        )\n",
    "        \n",
    "        self.play( TransformMatchingTex(tmpeq1,tmpeq) )\n",
    "        self.wait()\n",
    "        \n",
    "        #\n",
    "        \n",
    "        tmpeq1 = tmpeq\n",
    "        tmpeq = MathTex(\n",
    "            r\"P( X \\in [a;b] )\", r\"=\",\n",
    "            r\"{ \\frac{1}{2} }\",\n",
    "            r\"\\int_{ \\frac{m - b}{\\sigma \\sqrt{2}} }^{ \\frac{m - a}{\\sigma \\sqrt{2}} } {\",\n",
    "                r\"{ \\frac{2}{\\sqrt{\\pi}} } exp( -t^2 )\",\n",
    "            r\"} \\, dt\"\n",
    "        )\n",
    "        \n",
    "        self.play( TransformMatchingTex(tmpeq1,tmpeq) )\n",
    "        self.wait()\n",
    "        \n",
    "        #\n",
    "        \n",
    "        self.play( Circumscribe(tmpeq[5 -1], fade_out=True) )\n",
    "        \n",
    "        tmpeq1 = tmpeq\n",
    "        tmpeq = MathTex(\n",
    "            r\"erf(t)\", r\"=\", r\"{ \\frac{2}{\\sqrt{\\pi}} } \\int_0^t {\", r\"exp( -x^2 )\", r\"} \\, dx\",\n",
    "            r\"\\implies\", r\"\\frac{d \\, erf(t)}{dt}\", r\"=\", r\"{ \\frac{2}{\\sqrt{\\pi}} } exp( -t^2 )\",\n",
    "            r\"\\\\ \\\\\",\n",
    "            r\"P( X \\in [a;b] )\", r\"=\",\n",
    "            r\"{ \\frac{1}{2} }\",\n",
    "            r\"\\int_{ \\frac{m - b}{\\sigma \\sqrt{2}} }^{ \\frac{m - a}{\\sigma \\sqrt{2}} } {\",\n",
    "                r\"{ \\frac{d \\, erf(t)}{dt} }\",\n",
    "            r\"} \\, dt\"\n",
    "        )\n",
    "        \n",
    "        for i in range(0, 9 -1):\n",
    "            tmpeq[i].scale(0.75)\n",
    "        \n",
    "        self.play( TransformMatchingTex(tmpeq1,tmpeq) )\n",
    "        self.play( Circumscribe(tmpeq[9 -1]) )\n",
    "        \n",
    "        for i in range(0, 3):\n",
    "            self.wait()\n",
    "                \n",
    "        #\n",
    "        \n",
    "        tmpeq1 = tmpeq\n",
    "        tmpeq = MathTex(\n",
    "            r\"P( X \\in [a;b] )\", r\"=\",\n",
    "            r\"{ \\frac{1}{2} }\",\n",
    "            r\"\\Big[\",\n",
    "                r\"erf(t)\",\n",
    "            r\"\\Big]_{ \\frac{m - b}{\\sigma \\sqrt{2}} }^{ \\frac{m - a}{\\sigma \\sqrt{2}} }\"\n",
    "        )\n",
    "        \n",
    "        self.play( TransformMatchingTex(tmpeq1,tmpeq) )\n",
    "        self.wait()\n",
    "        \n",
    "        #\n",
    "        \n",
    "        tmpeq1 = tmpeq\n",
    "        tmpeq = MathTex(\n",
    "            r\"P( X \\in [a;b] )\", r\"=\",\n",
    "            r\"{ \\frac{1}{2} }\",\n",
    "            r\"\\Big(\",\n",
    "                r\"erf\\Big(\", r\"{ \\frac{m - a}{\\sigma \\sqrt{2}} }\", r\"\\Big)\",\n",
    "                r\"-\",\n",
    "                r\"erf\\Big(\", r\"{ \\frac{m - b}{\\sigma \\sqrt{2}} }\", r\"\\Big)\",\n",
    "            r\"\\Big)\"\n",
    "        )\n",
    "        \n",
    "        self.play( TransformMatchingTex(tmpeq1,tmpeq) )\n",
    "        \n",
    "        for i in range(0, 4):\n",
    "            self.wait()"
   ]
  },
  {
   "cell_type": "markdown",
   "id": "b0bc725a",
   "metadata": {},
   "source": [
    "On sait donc maintenant que :\n",
    "\n",
    "$ \n",
    "\\begin{gather*}\n",
    "    P( X \\in [a;b] ) =\n",
    "    { \\frac{1}{2} }\n",
    "    \\Big(\n",
    "        erf\\Big( { \\frac{m - a}{\\sigma \\sqrt{2}} } \\Big)\n",
    "        -\n",
    "        erf\\Big( { \\frac{m - b}{\\sigma \\sqrt{2}} } \\Big)\n",
    "    \\Big)\n",
    "\\end{gather*}\n",
    "$\n",
    "\n",
    "Mais si on développe à partir de l'expression de la fonction $ erf $, un problème subsiste :\n",
    "\n",
    "### $\n",
    "\\begin{gather*}\n",
    "    P( X \\in [a;b] ) =\n",
    "    { \\frac{1}{2} }\n",
    "    \\Big(\n",
    "        {\n",
    "            { \\frac{2}{\\sqrt{\\pi}} } \\int_0^{ \\frac{m - a}{\\sigma \\sqrt{2}} } { e^{-t^2} } \\, dt\n",
    "        }\n",
    "        \\, \\, - \\, \\,\n",
    "        {\n",
    "            { \\frac{2}{\\sqrt{\\pi}} } \\int_0^{ \\frac{m - b}{\\sigma \\sqrt{2}} } { e^{-t^2} } \\, dt\n",
    "        }\n",
    "    \\Big)\n",
    "\\end{gather*}\n",
    "$\n",
    "\n",
    "L'intégrale présente dans l'expression de la fonction $ erf $ est indéterminée.\n",
    "\n",
    "Toutefois, cette fonction s'évalue très bien avec des algorithmes d'approximation tels que celui présent dans la bibliothèque `GNU MPFR`."
   ]
  },
  {
   "cell_type": "markdown",
   "id": "0283d460",
   "metadata": {},
   "source": [
    "## Implémentation"
   ]
  },
  {
   "cell_type": "code",
   "execution_count": 9,
   "id": "b4f2c358",
   "metadata": {},
   "outputs": [],
   "source": [
    "# Parsing des données\n",
    "\n",
    "tokenids = [\n",
    "    \"bitcoin\",\n",
    "    \"ethereum\",\n",
    "    #\"solana\"\n",
    "]\n",
    "\n",
    "pricedata = {}\n",
    "\n",
    "for tokenid in tokenids:\n",
    "    pricedata[tokenid] = {}\n",
    "    \n",
    "    with open(\"../../../data/test/\" + tokenid + \".json\") as datafile:\n",
    "        # Dataframe sur les prix par date\n",
    "        pricedata.get(tokenid)[\"prices\"] = pd.DataFrame(\n",
    "            # On charge le fichier et on récupère la section des prix\n",
    "            json.loads(\"\".join(datafile.readlines())).get('prices'),\n",
    "            columns=[\"timestamp\", \"price\"]\n",
    "        )\n",
    "\n",
    "    close_prices = pricedata.get(tokenid)[\"prices\"][\"price\"]\n",
    "    previous_close_prices = close_prices.shift(1)\n",
    "    \n",
    "    # Liste des rendements\n",
    "    pricedata.get(tokenid)[\"yields\"] = ( (close_prices - previous_close_prices) / previous_close_prices )[1:]"
   ]
  },
  {
   "cell_type": "markdown",
   "id": "2fb4dec0",
   "metadata": {},
   "source": [
    "### 1. Portefeuille de deux actifs risqués"
   ]
  },
  {
   "cell_type": "code",
   "execution_count": 10,
   "id": "71687708",
   "metadata": {},
   "outputs": [],
   "source": [
    "wallet = Markowitz.Wallet()\n",
    "\n",
    "assets = [Markowitz.Asset(tokenid, pricedata.get(tokenid)[\"prices\"][\"price\"]) for tokenid in tokenids]\n",
    "\n",
    "wallet.setAssets(assets)"
   ]
  },
  {
   "cell_type": "code",
   "execution_count": 11,
   "id": "6c56b2d5",
   "metadata": {},
   "outputs": [],
   "source": [
    "markowitz = Markowitz(wallet)"
   ]
  },
  {
   "cell_type": "code",
   "execution_count": 12,
   "id": "d79d0d37",
   "metadata": {},
   "outputs": [
    {
     "data": {
      "text/plain": [
       "[<matplotlib.lines.Line2D at 0x70e515017da0>]"
      ]
     },
     "execution_count": 12,
     "metadata": {},
     "output_type": "execute_result"
    },
    {
     "data": {
      "image/png": "[encoded data removed]",
      "text/plain": [
       "<Figure size 640x480 with 1 Axes>"
      ]
     },
     "metadata": {},
     "output_type": "display_data"
    }
   ],
   "source": [
    "x = np.linspace(-1,1,100)\n",
    "plt.xlabel(\"Wallet expectancy\")\n",
    "plt.ylabel(\"Wallet volatility\")\n",
    "plt.plot(x, markowitz.wallet_volatility(x), color=\"red\")"
   ]
  },
  {
   "cell_type": "code",
   "execution_count": 13,
   "id": "cd5d4fe9",
   "metadata": {},
   "outputs": [
    {
     "name": "stderr",
     "output_type": "stream",
     "text": [
      "/media/onedevman/R&D/WaLev/src/test/maths/impl/Markowitz.py:184: RuntimeWarning: invalid value encountered in sqrt\n",
      "  return np.sqrt((z1 * volatility) + z2) + z3\n"
     ]
    },
    {
     "data": {
      "text/plain": [
       "[<matplotlib.lines.Line2D at 0x70e5150e5280>]"
      ]
     },
     "execution_count": 13,
     "metadata": {},
     "output_type": "execute_result"
    },
    {
     "data": {
      "image/png": "[encoded data removed]",
      "text/plain": [
       "<Figure size 640x480 with 1 Axes>"
      ]
     },
     "metadata": {},
     "output_type": "display_data"
    }
   ],
   "source": [
    "y = np.linspace(0,1000,100)\n",
    "plt.xlabel(\"Wallet volatility\")\n",
    "plt.ylabel(\"Wallet expectancy\")\n",
    "plt.plot(y, markowitz.wallet_expectancy(y), color=\"red\")"
   ]
  },
  {
   "cell_type": "code",
   "execution_count": 14,
   "id": "fad25613-801b-44b8-aaba-057645a1a6e2",
   "metadata": {},
   "outputs": [
    {
     "name": "stdout",
     "output_type": "stream",
     "text": [
      "0.9934657537249494\n",
      "0.0023664366353473073\n",
      "0.003883637504059506\n",
      "0.9895821162208899\n",
      "-0.0015172008687121988\n"
     ]
    },
    {
     "data": {
      "text/plain": [
       "np.float64(-652.2419915702052)"
      ]
     },
     "execution_count": 14,
     "metadata": {},
     "output_type": "execute_result"
    }
   ],
   "source": [
    "markowitz.leverage(1000)"
   ]
  },
  {
   "cell_type": "code",
   "execution_count": 19,
   "id": "77b8e735",
   "metadata": {},
   "outputs": [
    {
     "name": "stdout",
     "output_type": "stream",
     "text": [
      "[       nan 0.10199655 0.14327623 0.17494324 0.20163707 0.22515352\n",
      " 0.24641327 0.26596316 0.28415944 0.30124953 0.31741357 0.33278755\n",
      " 0.34747709 0.3615662  0.37512301 0.38820363 0.40085498 0.41311674\n",
      " 0.42502282 0.43660249 0.44788121 0.45888129 0.46962241 0.48012205\n",
      " 0.49039579 0.50045763 0.51032014 0.51999474 0.52949176 0.53882064\n",
      " 0.54799001 0.55700779 0.56588124 0.57461708 0.58322154 0.59170035\n",
      " 0.60005887 0.60830208 0.61643462 0.62446084 0.63238479 0.6402103\n",
      " 0.64794093 0.65558007 0.66313088 0.67059635 0.67797933 0.68528248\n",
      " 0.69250834 0.69965931 0.70673767 0.7137456  0.72068515 0.72755828\n",
      " 0.73436687 0.7411127  0.74779748 0.75442284 0.76099032 0.76750143\n",
      " 0.77395759 0.78036016 0.78671046 0.79300976 0.79925925 0.80546011\n",
      " 0.81161344 0.81772034 0.82378182 0.8297989  0.83577253 0.84170363\n",
      " 0.84759312 0.85344184 0.85925064 0.86502032 0.87075167 0.87644542\n",
      " 0.88210232 0.88772308 0.89330837 0.89885886 0.90437519 0.90985798\n",
      " 0.91530785 0.92072537 0.92611111 0.93146563 0.93678946 0.94208313\n",
      " 0.94734714 0.95258199 0.95778815 0.96296609 0.96811627 0.97323912\n",
      " 0.97833509 0.98340457 0.988448   0.99346575]\n",
      "0.0023664366353473073\n",
      "0.003883637504059506\n",
      "[       nan 0.09811291 0.13939259 0.17105961 0.19775344 0.22126988\n",
      " 0.24252963 0.26207953 0.28027581 0.2973659  0.31352994 0.32890391\n",
      " 0.34359345 0.35768257 0.37123937 0.38431999 0.39697135 0.4092331\n",
      " 0.42113918 0.43271885 0.44399757 0.45499765 0.46573877 0.47623841\n",
      " 0.48651216 0.49657399 0.5064365  0.5161111  0.52560812 0.53493701\n",
      " 0.54410638 0.55312415 0.5619976  0.57073345 0.5793379  0.58781671\n",
      " 0.59617523 0.60441844 0.61255098 0.6205772  0.62850115 0.63632666\n",
      " 0.64405729 0.65169643 0.65924724 0.66671272 0.67409569 0.68139884\n",
      " 0.6886247  0.69577567 0.70285404 0.70986196 0.71680151 0.72367464\n",
      " 0.73048323 0.73722907 0.74391385 0.7505392  0.75710668 0.76361779\n",
      " 0.77007395 0.77647652 0.78282683 0.78912612 0.79537561 0.80157647\n",
      " 0.80772981 0.8138367  0.81989818 0.82591526 0.83188889 0.83782\n",
      " 0.84370948 0.84955821 0.85536701 0.86113669 0.86686803 0.87256178\n",
      " 0.87821869 0.88383944 0.88942473 0.89497522 0.90049155 0.90597435\n",
      " 0.91142421 0.91684173 0.92222747 0.92758199 0.93290582 0.93819949\n",
      " 0.9434635  0.94869835 0.95390451 0.95908245 0.96423263 0.96935549\n",
      " 0.97445145 0.97952094 0.98456436 0.98958212]\n",
      "-0.0015172008687121988\n"
     ]
    },
    {
     "data": {
      "text/plain": [
       "[<matplotlib.lines.Line2D at 0x70e514fb0d40>]"
      ]
     },
     "execution_count": 19,
     "metadata": {},
     "output_type": "execute_result"
    },
    {
     "data": {
      "image/png": "[encoded data removed]",
      "text/plain": [
       "<Figure size 640x480 with 1 Axes>"
      ]
     },
     "metadata": {},
     "output_type": "display_data"
    }
   ],
   "source": [
    "y = np.linspace(0,1000,100)\n",
    "plt.xlabel(\"Wallet volatility\")\n",
    "plt.ylabel(\"First asset ratio\")\n",
    "plt.plot(y, markowitz.leverage(y), color=\"red\")"
   ]
  },
  {
   "cell_type": "code",
   "execution_count": 20,
   "id": "7e203610",
   "metadata": {},
   "outputs": [
    {
     "data": {
      "text/plain": [
       "array([-0.11734552,  0.01430127,  0.01785714, ...,  0.01870087,\n",
       "       -0.04829716,  0.0320871 ])"
      ]
     },
     "execution_count": 20,
     "metadata": {},
     "output_type": "execute_result"
    }
   ],
   "source": [
    "assets[0].yields()"
   ]
  },
  {
   "cell_type": "code",
   "execution_count": null,
   "id": "0af2565a-d9f9-483d-8cc4-c8c18054c5c7",
   "metadata": {},
   "outputs": [],
   "source": []
  },
  {
   "cell_type": "code",
   "execution_count": null,
   "id": "cd171188-8f28-42de-b70d-b8bbe0fa695f",
   "metadata": {},
   "outputs": [],
   "source": []
  },
  {
   "cell_type": "code",
   "execution_count": null,
   "id": "99e3a8c6-2cba-4912-b1a3-0a185eb73895",
   "metadata": {},
   "outputs": [],
   "source": []
  }
 ],
 "metadata": {
  "kernelspec": {
   "display_name": "Python 3 (ipykernel)",
   "language": "python",
   "name": "python3"
  },
  "language_info": {
   "codemirror_mode": {
    "name": "ipython",
    "version": 3
   },
   "file_extension": ".py",
   "mimetype": "text/x-python",
   "name": "python",
   "nbconvert_exporter": "python",
   "pygments_lexer": "ipython3",
   "version": "3.12.2"
  }
 },
 "nbformat": 4,
 "nbformat_minor": 5
}
